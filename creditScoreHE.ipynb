{
 "cells": [
  {
   "cell_type": "code",
   "execution_count": null,
   "metadata": {},
   "outputs": [
    {
     "name": "stdout",
     "output_type": "stream",
     "text": [
      "Homomorphic Average (Income): 121610.02\n",
      "Plaintext Average (Income): 121610.02\n",
      "Time for Homomorphic Sum and Average: 3.9918 seconds\n",
      "Time for Plaintext Sum and Average: 0.0000 seconds\n"
     ]
    }
   ],
   "source": [
    "import sys\n",
    "import os\n",
    "\n",
    "# Dynamically add SEAL-Python directory to the Python path\n",
    "# Must follow the steps in README.md to generate Seal-Python directory for library usage\n",
    "seal_python_path = os.path.join(os.getcwd(), 'SEAL-Python')\n",
    "sys.path.append(seal_python_path)\n",
    "\n",
    "from seal import *\n",
    "import pandas as pd\n",
    "import numpy as np\n",
    "import time  # For measuring time\n",
    "\n",
    "def example_ckks_credit_scores(csv_path):\n",
    "    # Load the dataset\n",
    "    data = pd.read_csv(csv_path)\n",
    "\n",
    "    # Extract columns\n",
    "    income = data['INCOME'].tolist()\n",
    "    savings = data['SAVINGS'].tolist()\n",
    "    debt = data['DEBT'].tolist()\n",
    "\n",
    "    # Set up encryption parameters for CKKS\n",
    "    parms = EncryptionParameters(scheme_type.ckks)\n",
    "    poly_modulus_degree = 8192\n",
    "    parms.set_poly_modulus_degree(poly_modulus_degree)\n",
    "    parms.set_coeff_modulus(CoeffModulus.Create(poly_modulus_degree, [60, 40, 40, 60]))\n",
    "    scale = pow(2.0, 40)\n",
    "    context = SEALContext(parms)\n",
    "\n",
    "    # Generate keys\n",
    "    keygen = KeyGenerator(context)\n",
    "    secret_key = keygen.secret_key()\n",
    "    public_key = keygen.create_public_key()\n",
    "\n",
    "    # Set up encryptor, evaluator, decryptor, and encoder\n",
    "    encryptor = Encryptor(context, public_key)\n",
    "    evaluator = Evaluator(context)\n",
    "    decryptor = Decryptor(context, secret_key)\n",
    "    encoder = CKKSEncoder(context)\n",
    "\n",
    "    # Encode and encrypt data\n",
    "    income_plain = encoder.encode(income, scale)\n",
    "    income_encrypted = encryptor.encrypt(income_plain)\n",
    "\n",
    "    # Measure time for homomorphic sum and average\n",
    "    start_homomorphic = time.time()\n",
    "\n",
    "    # Compute sums homomorphically\n",
    "    income_sum_encrypted = Ciphertext(income_encrypted)\n",
    "    for i in range(1, len(income)):\n",
    "        temp_plain = encoder.encode([income[i]], scale)\n",
    "        temp_encrypted = encryptor.encrypt(temp_plain)\n",
    "        evaluator.add_inplace(income_sum_encrypted, temp_encrypted)\n",
    "\n",
    "    # Decrypt and compute average in plaintext\n",
    "    income_sum_plain = decryptor.decrypt(income_sum_encrypted)\n",
    "    income_sum_result = encoder.decode(income_sum_plain)\n",
    "    homomorphic_avg = income_sum_result[0] / len(income)\n",
    "\n",
    "    end_homomorphic = time.time()\n",
    "\n",
    "    # Measure time for plaintext sum and average\n",
    "    start_plaintext = time.time()\n",
    "    plaintext_avg = sum(income) / len(income)\n",
    "    end_plaintext = time.time()\n",
    "\n",
    "    # Print results and timings\n",
    "    print(f\"Homomorphic Average (Income): {homomorphic_avg:.2f}\")\n",
    "    print(f\"Plaintext Average (Income): {plaintext_avg:.2f}\")\n",
    "\n",
    "    print(f\"Time for Homomorphic Sum and Average: {end_homomorphic - start_homomorphic:.4f} seconds\")\n",
    "    print(f\"Time for Plaintext Sum and Average: {end_plaintext - start_plaintext:.4f} seconds\")\n",
    "\n",
    "if __name__ == \"__main__\":\n",
    "    # Path to your CSV file\n",
    "    csv_path = 'credit_score_data.csv'  # Replace with the actual file path\n",
    "    example_ckks_credit_scores(csv_path)\n"
   ]
  },
  {
   "cell_type": "markdown",
   "metadata": {},
   "source": []
  }
 ],
 "metadata": {
  "kernelspec": {
   "display_name": "Python 3",
   "language": "python",
   "name": "python3"
  },
  "language_info": {
   "codemirror_mode": {
    "name": "ipython",
    "version": 3
   },
   "file_extension": ".py",
   "mimetype": "text/x-python",
   "name": "python",
   "nbconvert_exporter": "python",
   "pygments_lexer": "ipython3",
   "version": "3.11.10"
  }
 },
 "nbformat": 4,
 "nbformat_minor": 2
}
